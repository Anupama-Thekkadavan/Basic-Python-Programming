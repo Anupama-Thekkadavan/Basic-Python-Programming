{
  "nbformat": 4,
  "nbformat_minor": 0,
  "metadata": {
    "colab": {
      "provenance": []
    },
    "kernelspec": {
      "name": "python3",
      "display_name": "Python 3"
    },
    "language_info": {
      "name": "python"
    }
  },
  "cells": [
    {
      "cell_type": "markdown",
      "source": [
        "**Certificate Course on Python Programming for Computational Linguistics and Natural Language Processing.\n",
        "Assignment : Week 1**"
      ],
      "metadata": {
        "id": "dWWiFzYb04zn"
      }
    },
    {
      "cell_type": "markdown",
      "source": [
        "Write a program to read Celsius temperature and print equivalent Fahrenheit\n",
        "temperate on screen."
      ],
      "metadata": {
        "id": "m7pPHg0s075V"
      }
    },
    {
      "cell_type": "code",
      "source": [
        "C=float(input('Temperature in celsius:'))\n",
        "print('Temperature in fahrenheit is', C*9/5+32, 'degrees')"
      ],
      "metadata": {
        "colab": {
          "base_uri": "https://localhost:8080/"
        },
        "id": "jOF1Cw9M1TeI",
        "outputId": "6b3df4ae-1448-4807-a9cb-2117fa4b128e"
      },
      "execution_count": 2,
      "outputs": [
        {
          "output_type": "stream",
          "name": "stdout",
          "text": [
            "Temperature in celsius:-48.09\n",
            "Temperature in fahrenheit is -54.56200000000001 degrees\n"
          ]
        }
      ]
    },
    {
      "cell_type": "markdown",
      "source": [
        "Read radius of the circle from user and find the area and perimeter of it."
      ],
      "metadata": {
        "id": "42ZEz_oe2ViL"
      }
    },
    {
      "cell_type": "code",
      "source": [
        "r=float(input('Radius value:'))\n",
        "π=3.14\n",
        "print('The area of the circle is', π*r**2)\n",
        "print('The circumference of the circle is', 2*π*r)"
      ],
      "metadata": {
        "colab": {
          "base_uri": "https://localhost:8080/"
        },
        "id": "2XOhw8gs2aOB",
        "outputId": "dda05ba8-1dae-456d-bd19-b635b0cf33d5"
      },
      "execution_count": 3,
      "outputs": [
        {
          "output_type": "stream",
          "name": "stdout",
          "text": [
            "Radius value:9.999\n",
            "The area of the circle is 313.93720314000007\n",
            "The circumference of the circle is 62.79372000000001\n"
          ]
        }
      ]
    },
    {
      "cell_type": "markdown",
      "source": [
        "Read the amount and percentage of interest from the keyboard and find final\n",
        "amount after adding interest in original amount."
      ],
      "metadata": {
        "id": "g8c7depE3hfO"
      }
    },
    {
      "cell_type": "code",
      "source": [
        "OC=float(input('Original cost:'))\n",
        "IP=float(input('Interest percentage:'))\n",
        "print('The final amount is', OC*IP+OC)"
      ],
      "metadata": {
        "colab": {
          "base_uri": "https://localhost:8080/"
        },
        "id": "dH1nuNJh36d5",
        "outputId": "3c13dce8-2523-4788-dbaf-6ff5a8dd7da8"
      },
      "execution_count": 4,
      "outputs": [
        {
          "output_type": "stream",
          "name": "stdout",
          "text": [
            "Original cost:350000\n",
            "Interest percentage:23\n",
            "The final amount is 8400000.0\n"
          ]
        }
      ]
    },
    {
      "cell_type": "markdown",
      "source": [
        "Write a program to read distance value in meters and convert it into centimeters, inches, and yards."
      ],
      "metadata": {
        "id": "imuw34qq4zZ0"
      }
    },
    {
      "cell_type": "code",
      "source": [
        "L=float(input('Length in metres:'))\n",
        "print('Length in centimeters is', M*100)\n",
        "print('Length in inches is', M*39.37)\n",
        "print('Length in yards is', M*1.09)"
      ],
      "metadata": {
        "colab": {
          "base_uri": "https://localhost:8080/"
        },
        "id": "hzlQwPuT46lq",
        "outputId": "bb22f0fd-a035-44b3-8fec-c689b03e6d01"
      },
      "execution_count": 8,
      "outputs": [
        {
          "output_type": "stream",
          "name": "stdout",
          "text": [
            "Length in metres:321.987\n",
            "Length in centimeters is 67115.3925\n",
            "Length in inches is 26423.33002725\n",
            "Length in yards is 731.55777825\n"
          ]
        }
      ]
    },
    {
      "cell_type": "markdown",
      "source": [
        "Write a program to read your name from keyboard and perform the following operations:\n",
        "1. Print it in upper, lower and title case"
      ],
      "metadata": {
        "id": "jBqQTBRU5v87"
      }
    },
    {
      "cell_type": "code",
      "source": [
        "Name=input('Name:')\n",
        "print(Name.upper())\n",
        "print(Name.lower())\n",
        "print(Name.title())"
      ],
      "metadata": {
        "colab": {
          "base_uri": "https://localhost:8080/"
        },
        "id": "RliA68WtzESQ",
        "outputId": "394d105f-3b54-448f-e5f8-68302f876a67"
      },
      "execution_count": 6,
      "outputs": [
        {
          "output_type": "stream",
          "name": "stdout",
          "text": [
            "Name:anUPMa thekkAdavan\n",
            "ANUPMA THEKKADAVAN\n",
            "anupma thekkadavan\n",
            "Anupma Thekkadavan\n"
          ]
        }
      ]
    }
  ]
}