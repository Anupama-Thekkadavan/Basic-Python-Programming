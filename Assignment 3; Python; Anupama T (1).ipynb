{
 "cells": [
  {
   "cell_type": "markdown",
   "id": "b3cc23b3-4d58-4cb6-8e6c-088cd80f0fc6",
   "metadata": {},
   "source": [
    "<b>Write a program to read a number from user and find the square root, sin, tan, log and factorial of this number using math module.<b>"
   ]
  },
  {
   "cell_type": "code",
   "execution_count": 5,
   "id": "f5e7ede5-7b70-4a70-94ea-ea0d500a0f17",
   "metadata": {},
   "outputs": [
    {
     "name": "stdin",
     "output_type": "stream",
     "text": [
      "Number is: 13\n"
     ]
    },
    {
     "name": "stdout",
     "output_type": "stream",
     "text": [
      "Square root: 3.605551275463989\n",
      "Sin: 0.4201670368266409\n",
      "Tan: 0.4630211329364896\n",
      "Factorial: 6227020800\n"
     ]
    }
   ],
   "source": [
    "import math as m \n",
    "n = int(input('Number is:'))\n",
    "print ('Square root:', m.sqrt(n))\n",
    "print ('Sin:', m.sin(n))\n",
    "print ('Tan:', m.tan(n))\n",
    "print ('Factorial:', m.factorial(n))"
   ]
  },
  {
   "cell_type": "markdown",
   "id": "8923f861-80e5-4d75-b4b9-aa35c94c9ad3",
   "metadata": {},
   "source": [
    "<b>Create a file named ‘temp.txt’ with some text present in it. Read this file and copy \n",
    "its contents in another file called ‘temp1.txt’ b  converting the text in upper case<b>."
   ]
  },
  {
   "cell_type": "code",
   "execution_count": 1,
   "id": "84fdbe51-6635-42dc-9996-8e212dcad6c6",
   "metadata": {},
   "outputs": [],
   "source": [
    "with open(\"temp.txt\", 'w') as f:\n",
    "    f.write(\"Hello All\\n\")\n",
    "    f.write(\"I am Anupama Thekkadavan\\n\")\n",
    "    f.write(\"I am working on my assignment three of Python programming\\n\")\n",
    "    f.write(\"Hope I am going in the correct direction\\n\")\n",
    "    f.write(\"Good Bye\\n\")"
   ]
  },
  {
   "cell_type": "code",
   "execution_count": 2,
   "id": "a55aa048-37a1-4585-8d24-9eb6374456b9",
   "metadata": {},
   "outputs": [
    {
     "data": {
      "text/plain": [
       "<function TextIOWrapper.close()>"
      ]
     },
     "execution_count": 2,
     "metadata": {},
     "output_type": "execute_result"
    }
   ],
   "source": [
    "f = open(\"temp.txt\")\n",
    "nf = open(\"temp1.txt\", \"w\")\n",
    "data = f.read()\n",
    "nf.write(data.upper())\n",
    "nf.close\n",
    "f.close"
   ]
  },
  {
   "cell_type": "code",
   "execution_count": 3,
   "id": "7293deed-1e4b-49ab-99f3-982517145131",
   "metadata": {},
   "outputs": [
    {
     "name": "stdout",
     "output_type": "stream",
     "text": [
      "HELLO ALL\n",
      "\n",
      "I AM ANUPAMA THEKKADAVAN\n",
      "\n",
      "I AM WORKING ON MY ASSIGNMENT THREE OF PYTHON PROGRAMMING\n",
      "\n",
      "HOPE I AM GOING IN THE CORRECT DIRECTION\n",
      "\n",
      "GOOD BYE\n",
      "\n"
     ]
    }
   ],
   "source": [
    "nf = open(\"temp1.txt\")\n",
    "data = nf.readlines()\n",
    "for line in data:\n",
    "    print(line)"
   ]
  },
  {
   "cell_type": "markdown",
   "id": "6ea4ad3d-fd29-4fe5-b6f5-888d0f64a0f6",
   "metadata": {},
   "source": [
    "<b>Write a Python class named ‘Rectangle’ with two attributes length and width and \n",
    "a method named ‘calculate’ which will compute the area of a rectangle. Create a \r\n",
    "object to pass length and width and call the method to calculate the area  f\r\n",
    "rectang<b>le."
   ]
  },
  {
   "cell_type": "code",
   "execution_count": 5,
   "id": "c0789a4c-c2ce-4d48-a59a-2dc81a7ef193",
   "metadata": {},
   "outputs": [
    {
     "name": "stdout",
     "output_type": "stream",
     "text": [
      "Area of ABCD is 1427.4375\n"
     ]
    }
   ],
   "source": [
    "class Rectangle:\n",
    "    def __init__(dim, l, b):\n",
    "        dim.l = l\n",
    "        dim.b = b\n",
    "    def calculate(dim):\n",
    "        c = dim.l*dim.b\n",
    "        return c\n",
    "\n",
    "ABCD = Rectangle(17.25, 82.75 )\n",
    "print(\"Area of ABCD is\", ABCD.calculate())"
   ]
  },
  {
   "cell_type": "markdown",
   "id": "56972912-8ac1-4fc5-b025-8507f77c5fa3",
   "metadata": {},
   "source": [
    "<b>Download and read the file ‘cricket.csv’ from https://mitu.co.in/dataset and \n",
    "perform following operations on it.\r\n",
    "1. Print the names of players\r\n",
    "2. Find the names of players whose matches are greater than 100\r\n",
    "3. Find information of the players whose name starts with ‘A’.\r\n",
    "4. Convert all the names in upper-case and replace it with ori inal values.\r\n",
    "5. Find the addition of all the runs.\r\n",
    "6. Print the name of player with highest runs."
   ]
  },
  {
   "cell_type": "code",
   "execution_count": 12,
   "id": "e94c33f1-a2e8-4ca3-a8b2-21eb231f2eba",
   "metadata": {},
   "outputs": [
    {
     "data": {
      "text/html": [
       "<div>\n",
       "<style scoped>\n",
       "    .dataframe tbody tr th:only-of-type {\n",
       "        vertical-align: middle;\n",
       "    }\n",
       "\n",
       "    .dataframe tbody tr th {\n",
       "        vertical-align: top;\n",
       "    }\n",
       "\n",
       "    .dataframe thead th {\n",
       "        text-align: right;\n",
       "    }\n",
       "</style>\n",
       "<table border=\"1\" class=\"dataframe\">\n",
       "  <thead>\n",
       "    <tr style=\"text-align: right;\">\n",
       "      <th></th>\n",
       "      <th>sr.no</th>\n",
       "      <th>name</th>\n",
       "      <th>matches</th>\n",
       "      <th>runs</th>\n",
       "      <th>catches</th>\n",
       "      <th>wickets</th>\n",
       "      <th>stumpings</th>\n",
       "    </tr>\n",
       "  </thead>\n",
       "  <tbody>\n",
       "    <tr>\n",
       "      <th>0</th>\n",
       "      <td>1</td>\n",
       "      <td>Anil Dalpat</td>\n",
       "      <td>122</td>\n",
       "      <td>6755</td>\n",
       "      <td>56</td>\n",
       "      <td>12</td>\n",
       "      <td>0</td>\n",
       "    </tr>\n",
       "    <tr>\n",
       "      <th>1</th>\n",
       "      <td>2</td>\n",
       "      <td>Rohan Kanhay</td>\n",
       "      <td>144</td>\n",
       "      <td>1256</td>\n",
       "      <td>76</td>\n",
       "      <td>178</td>\n",
       "      <td>0</td>\n",
       "    </tr>\n",
       "    <tr>\n",
       "      <th>2</th>\n",
       "      <td>3</td>\n",
       "      <td>Avdhoot Dighe</td>\n",
       "      <td>265</td>\n",
       "      <td>8954</td>\n",
       "      <td>120</td>\n",
       "      <td>0</td>\n",
       "      <td>0</td>\n",
       "    </tr>\n",
       "    <tr>\n",
       "      <th>3</th>\n",
       "      <td>4</td>\n",
       "      <td>Bahubali</td>\n",
       "      <td>10</td>\n",
       "      <td>756</td>\n",
       "      <td>6</td>\n",
       "      <td>11</td>\n",
       "      <td>3</td>\n",
       "    </tr>\n",
       "    <tr>\n",
       "      <th>4</th>\n",
       "      <td>5</td>\n",
       "      <td>Leeladhar</td>\n",
       "      <td>234</td>\n",
       "      <td>2866</td>\n",
       "      <td>105</td>\n",
       "      <td>376</td>\n",
       "      <td>0</td>\n",
       "    </tr>\n",
       "    <tr>\n",
       "      <th>5</th>\n",
       "      <td>6</td>\n",
       "      <td>Pradyumna</td>\n",
       "      <td>177</td>\n",
       "      <td>5877</td>\n",
       "      <td>47</td>\n",
       "      <td>122</td>\n",
       "      <td>0</td>\n",
       "    </tr>\n",
       "    <tr>\n",
       "      <th>6</th>\n",
       "      <td>7</td>\n",
       "      <td>Dinesh Roy</td>\n",
       "      <td>211</td>\n",
       "      <td>8537</td>\n",
       "      <td>112</td>\n",
       "      <td>16</td>\n",
       "      <td>0</td>\n",
       "    </tr>\n",
       "    <tr>\n",
       "      <th>7</th>\n",
       "      <td>8</td>\n",
       "      <td>Parmeshwar</td>\n",
       "      <td>245</td>\n",
       "      <td>9466</td>\n",
       "      <td>53</td>\n",
       "      <td>0</td>\n",
       "      <td>0</td>\n",
       "    </tr>\n",
       "    <tr>\n",
       "      <th>8</th>\n",
       "      <td>9</td>\n",
       "      <td>Ali Durrani</td>\n",
       "      <td>55</td>\n",
       "      <td>2756</td>\n",
       "      <td>12</td>\n",
       "      <td>26</td>\n",
       "      <td>0</td>\n",
       "    </tr>\n",
       "    <tr>\n",
       "      <th>9</th>\n",
       "      <td>10</td>\n",
       "      <td>Litesh Singh</td>\n",
       "      <td>89</td>\n",
       "      <td>1099</td>\n",
       "      <td>46</td>\n",
       "      <td>49</td>\n",
       "      <td>0</td>\n",
       "    </tr>\n",
       "  </tbody>\n",
       "</table>\n",
       "</div>"
      ],
      "text/plain": [
       "   sr.no           name  matches  runs  catches  wickets  stumpings\n",
       "0      1    Anil Dalpat      122  6755       56       12          0\n",
       "1      2   Rohan Kanhay      144  1256       76      178          0\n",
       "2      3  Avdhoot Dighe      265  8954      120        0          0\n",
       "3      4       Bahubali       10   756        6       11          3\n",
       "4      5      Leeladhar      234  2866      105      376          0\n",
       "5      6      Pradyumna      177  5877       47      122          0\n",
       "6      7     Dinesh Roy      211  8537      112       16          0\n",
       "7      8     Parmeshwar      245  9466       53        0          0\n",
       "8      9    Ali Durrani       55  2756       12       26          0\n",
       "9     10   Litesh Singh       89  1099       46       49          0"
      ]
     },
     "execution_count": 12,
     "metadata": {},
     "output_type": "execute_result"
    }
   ],
   "source": [
    "import pandas as pd\n",
    "df = pd.read_csv('cricket.csv')\n",
    "df"
   ]
  },
  {
   "cell_type": "markdown",
   "id": "11e33c93-5825-49a5-bb1e-ef7379886a7f",
   "metadata": {},
   "source": [
    "1. print names of the players"
   ]
  },
  {
   "cell_type": "code",
   "execution_count": 13,
   "id": "69995a1c-0a07-4fd9-8d4e-201f35c0baa7",
   "metadata": {},
   "outputs": [
    {
     "data": {
      "text/plain": [
       "0      Anil Dalpat\n",
       "1     Rohan Kanhay\n",
       "2    Avdhoot Dighe\n",
       "3         Bahubali\n",
       "4        Leeladhar\n",
       "5        Pradyumna\n",
       "6       Dinesh Roy\n",
       "7       Parmeshwar\n",
       "8      Ali Durrani\n",
       "9     Litesh Singh\n",
       "Name: name, dtype: object"
      ]
     },
     "execution_count": 13,
     "metadata": {},
     "output_type": "execute_result"
    }
   ],
   "source": [
    "df ['name']"
   ]
  },
  {
   "cell_type": "markdown",
   "id": "0cd04889-1ab4-4882-ad20-fcc997fc42a6",
   "metadata": {},
   "source": [
    "2. Names of the players whose matches are greater than 100"
   ]
  },
  {
   "cell_type": "code",
   "execution_count": 15,
   "id": "0fad7705-537b-4536-8e48-5aac3d4807aa",
   "metadata": {},
   "outputs": [
    {
     "data": {
      "text/html": [
       "<div>\n",
       "<style scoped>\n",
       "    .dataframe tbody tr th:only-of-type {\n",
       "        vertical-align: middle;\n",
       "    }\n",
       "\n",
       "    .dataframe tbody tr th {\n",
       "        vertical-align: top;\n",
       "    }\n",
       "\n",
       "    .dataframe thead th {\n",
       "        text-align: right;\n",
       "    }\n",
       "</style>\n",
       "<table border=\"1\" class=\"dataframe\">\n",
       "  <thead>\n",
       "    <tr style=\"text-align: right;\">\n",
       "      <th></th>\n",
       "      <th>name</th>\n",
       "      <th>matches</th>\n",
       "    </tr>\n",
       "  </thead>\n",
       "  <tbody>\n",
       "    <tr>\n",
       "      <th>0</th>\n",
       "      <td>Anil Dalpat</td>\n",
       "      <td>122</td>\n",
       "    </tr>\n",
       "    <tr>\n",
       "      <th>1</th>\n",
       "      <td>Rohan Kanhay</td>\n",
       "      <td>144</td>\n",
       "    </tr>\n",
       "    <tr>\n",
       "      <th>2</th>\n",
       "      <td>Avdhoot Dighe</td>\n",
       "      <td>265</td>\n",
       "    </tr>\n",
       "    <tr>\n",
       "      <th>4</th>\n",
       "      <td>Leeladhar</td>\n",
       "      <td>234</td>\n",
       "    </tr>\n",
       "    <tr>\n",
       "      <th>5</th>\n",
       "      <td>Pradyumna</td>\n",
       "      <td>177</td>\n",
       "    </tr>\n",
       "    <tr>\n",
       "      <th>6</th>\n",
       "      <td>Dinesh Roy</td>\n",
       "      <td>211</td>\n",
       "    </tr>\n",
       "    <tr>\n",
       "      <th>7</th>\n",
       "      <td>Parmeshwar</td>\n",
       "      <td>245</td>\n",
       "    </tr>\n",
       "  </tbody>\n",
       "</table>\n",
       "</div>"
      ],
      "text/plain": [
       "            name  matches\n",
       "0    Anil Dalpat      122\n",
       "1   Rohan Kanhay      144\n",
       "2  Avdhoot Dighe      265\n",
       "4      Leeladhar      234\n",
       "5      Pradyumna      177\n",
       "6     Dinesh Roy      211\n",
       "7     Parmeshwar      245"
      ]
     },
     "execution_count": 15,
     "metadata": {},
     "output_type": "execute_result"
    }
   ],
   "source": [
    "n = df [df['matches'] > 100]\n",
    "n[['name', 'matches']]"
   ]
  },
  {
   "cell_type": "markdown",
   "id": "9373a1e8-1732-49c9-a1a5-9061044ef405",
   "metadata": {},
   "source": [
    "3. Information on players whose name starts with 'A'"
   ]
  },
  {
   "cell_type": "code",
   "execution_count": 16,
   "id": "ceeda615-61f8-4355-b440-c5ddc27f26ad",
   "metadata": {},
   "outputs": [
    {
     "data": {
      "text/html": [
       "<div>\n",
       "<style scoped>\n",
       "    .dataframe tbody tr th:only-of-type {\n",
       "        vertical-align: middle;\n",
       "    }\n",
       "\n",
       "    .dataframe tbody tr th {\n",
       "        vertical-align: top;\n",
       "    }\n",
       "\n",
       "    .dataframe thead th {\n",
       "        text-align: right;\n",
       "    }\n",
       "</style>\n",
       "<table border=\"1\" class=\"dataframe\">\n",
       "  <thead>\n",
       "    <tr style=\"text-align: right;\">\n",
       "      <th></th>\n",
       "      <th>sr.no</th>\n",
       "      <th>name</th>\n",
       "      <th>matches</th>\n",
       "      <th>runs</th>\n",
       "      <th>catches</th>\n",
       "      <th>wickets</th>\n",
       "      <th>stumpings</th>\n",
       "    </tr>\n",
       "  </thead>\n",
       "  <tbody>\n",
       "    <tr>\n",
       "      <th>0</th>\n",
       "      <td>1</td>\n",
       "      <td>Anil Dalpat</td>\n",
       "      <td>122</td>\n",
       "      <td>6755</td>\n",
       "      <td>56</td>\n",
       "      <td>12</td>\n",
       "      <td>0</td>\n",
       "    </tr>\n",
       "    <tr>\n",
       "      <th>2</th>\n",
       "      <td>3</td>\n",
       "      <td>Avdhoot Dighe</td>\n",
       "      <td>265</td>\n",
       "      <td>8954</td>\n",
       "      <td>120</td>\n",
       "      <td>0</td>\n",
       "      <td>0</td>\n",
       "    </tr>\n",
       "    <tr>\n",
       "      <th>8</th>\n",
       "      <td>9</td>\n",
       "      <td>Ali Durrani</td>\n",
       "      <td>55</td>\n",
       "      <td>2756</td>\n",
       "      <td>12</td>\n",
       "      <td>26</td>\n",
       "      <td>0</td>\n",
       "    </tr>\n",
       "  </tbody>\n",
       "</table>\n",
       "</div>"
      ],
      "text/plain": [
       "   sr.no           name  matches  runs  catches  wickets  stumpings\n",
       "0      1    Anil Dalpat      122  6755       56       12          0\n",
       "2      3  Avdhoot Dighe      265  8954      120        0          0\n",
       "8      9    Ali Durrani       55  2756       12       26          0"
      ]
     },
     "execution_count": 16,
     "metadata": {},
     "output_type": "execute_result"
    }
   ],
   "source": [
    "p = df[df['name'].str.startswith('A')]\n",
    "p"
   ]
  },
  {
   "cell_type": "markdown",
   "id": "269aa3d4-b9f0-4429-bc53-1181aa563e6f",
   "metadata": {},
   "source": [
    "4. Convert all names to upper case and replacing the original values with it"
   ]
  },
  {
   "cell_type": "code",
   "execution_count": 18,
   "id": "e80afd2f-6c46-4bdc-9a8d-4c3bfa3e5169",
   "metadata": {},
   "outputs": [
    {
     "data": {
      "text/html": [
       "<div>\n",
       "<style scoped>\n",
       "    .dataframe tbody tr th:only-of-type {\n",
       "        vertical-align: middle;\n",
       "    }\n",
       "\n",
       "    .dataframe tbody tr th {\n",
       "        vertical-align: top;\n",
       "    }\n",
       "\n",
       "    .dataframe thead th {\n",
       "        text-align: right;\n",
       "    }\n",
       "</style>\n",
       "<table border=\"1\" class=\"dataframe\">\n",
       "  <thead>\n",
       "    <tr style=\"text-align: right;\">\n",
       "      <th></th>\n",
       "      <th>sr.no</th>\n",
       "      <th>name</th>\n",
       "      <th>matches</th>\n",
       "      <th>runs</th>\n",
       "      <th>catches</th>\n",
       "      <th>wickets</th>\n",
       "      <th>stumpings</th>\n",
       "    </tr>\n",
       "  </thead>\n",
       "  <tbody>\n",
       "    <tr>\n",
       "      <th>0</th>\n",
       "      <td>1</td>\n",
       "      <td>ANIL DALPAT</td>\n",
       "      <td>122</td>\n",
       "      <td>6755</td>\n",
       "      <td>56</td>\n",
       "      <td>12</td>\n",
       "      <td>0</td>\n",
       "    </tr>\n",
       "    <tr>\n",
       "      <th>1</th>\n",
       "      <td>2</td>\n",
       "      <td>ROHAN KANHAY</td>\n",
       "      <td>144</td>\n",
       "      <td>1256</td>\n",
       "      <td>76</td>\n",
       "      <td>178</td>\n",
       "      <td>0</td>\n",
       "    </tr>\n",
       "    <tr>\n",
       "      <th>2</th>\n",
       "      <td>3</td>\n",
       "      <td>AVDHOOT DIGHE</td>\n",
       "      <td>265</td>\n",
       "      <td>8954</td>\n",
       "      <td>120</td>\n",
       "      <td>0</td>\n",
       "      <td>0</td>\n",
       "    </tr>\n",
       "    <tr>\n",
       "      <th>3</th>\n",
       "      <td>4</td>\n",
       "      <td>BAHUBALI</td>\n",
       "      <td>10</td>\n",
       "      <td>756</td>\n",
       "      <td>6</td>\n",
       "      <td>11</td>\n",
       "      <td>3</td>\n",
       "    </tr>\n",
       "    <tr>\n",
       "      <th>4</th>\n",
       "      <td>5</td>\n",
       "      <td>LEELADHAR</td>\n",
       "      <td>234</td>\n",
       "      <td>2866</td>\n",
       "      <td>105</td>\n",
       "      <td>376</td>\n",
       "      <td>0</td>\n",
       "    </tr>\n",
       "    <tr>\n",
       "      <th>5</th>\n",
       "      <td>6</td>\n",
       "      <td>PRADYUMNA</td>\n",
       "      <td>177</td>\n",
       "      <td>5877</td>\n",
       "      <td>47</td>\n",
       "      <td>122</td>\n",
       "      <td>0</td>\n",
       "    </tr>\n",
       "    <tr>\n",
       "      <th>6</th>\n",
       "      <td>7</td>\n",
       "      <td>DINESH ROY</td>\n",
       "      <td>211</td>\n",
       "      <td>8537</td>\n",
       "      <td>112</td>\n",
       "      <td>16</td>\n",
       "      <td>0</td>\n",
       "    </tr>\n",
       "    <tr>\n",
       "      <th>7</th>\n",
       "      <td>8</td>\n",
       "      <td>PARMESHWAR</td>\n",
       "      <td>245</td>\n",
       "      <td>9466</td>\n",
       "      <td>53</td>\n",
       "      <td>0</td>\n",
       "      <td>0</td>\n",
       "    </tr>\n",
       "    <tr>\n",
       "      <th>8</th>\n",
       "      <td>9</td>\n",
       "      <td>ALI DURRANI</td>\n",
       "      <td>55</td>\n",
       "      <td>2756</td>\n",
       "      <td>12</td>\n",
       "      <td>26</td>\n",
       "      <td>0</td>\n",
       "    </tr>\n",
       "    <tr>\n",
       "      <th>9</th>\n",
       "      <td>10</td>\n",
       "      <td>LITESH SINGH</td>\n",
       "      <td>89</td>\n",
       "      <td>1099</td>\n",
       "      <td>46</td>\n",
       "      <td>49</td>\n",
       "      <td>0</td>\n",
       "    </tr>\n",
       "  </tbody>\n",
       "</table>\n",
       "</div>"
      ],
      "text/plain": [
       "   sr.no           name  matches  runs  catches  wickets  stumpings\n",
       "0      1    ANIL DALPAT      122  6755       56       12          0\n",
       "1      2   ROHAN KANHAY      144  1256       76      178          0\n",
       "2      3  AVDHOOT DIGHE      265  8954      120        0          0\n",
       "3      4       BAHUBALI       10   756        6       11          3\n",
       "4      5      LEELADHAR      234  2866      105      376          0\n",
       "5      6      PRADYUMNA      177  5877       47      122          0\n",
       "6      7     DINESH ROY      211  8537      112       16          0\n",
       "7      8     PARMESHWAR      245  9466       53        0          0\n",
       "8      9    ALI DURRANI       55  2756       12       26          0\n",
       "9     10   LITESH SINGH       89  1099       46       49          0"
      ]
     },
     "execution_count": 18,
     "metadata": {},
     "output_type": "execute_result"
    }
   ],
   "source": [
    "df['name'] = df['name'].str.upper()\n",
    "df"
   ]
  },
  {
   "cell_type": "markdown",
   "id": "24747f10-6a6e-4d5f-a612-d4568eacefb0",
   "metadata": {},
   "source": [
    "5. Sum of runs"
   ]
  },
  {
   "cell_type": "code",
   "execution_count": 19,
   "id": "a4a8b8e6-0c25-4e7f-b435-da5271d975e8",
   "metadata": {},
   "outputs": [
    {
     "data": {
      "text/plain": [
       "48322"
      ]
     },
     "execution_count": 19,
     "metadata": {},
     "output_type": "execute_result"
    }
   ],
   "source": [
    "df['runs'].sum()"
   ]
  },
  {
   "cell_type": "markdown",
   "id": "cf2eb50e-fad8-4ac5-b906-9dd9c614f3b7",
   "metadata": {},
   "source": [
    "6. Print name of player with highest runs"
   ]
  },
  {
   "cell_type": "code",
   "execution_count": 20,
   "id": "517e8947-526c-4a5f-9412-ae61986b98b6",
   "metadata": {},
   "outputs": [
    {
     "data": {
      "text/html": [
       "<div>\n",
       "<style scoped>\n",
       "    .dataframe tbody tr th:only-of-type {\n",
       "        vertical-align: middle;\n",
       "    }\n",
       "\n",
       "    .dataframe tbody tr th {\n",
       "        vertical-align: top;\n",
       "    }\n",
       "\n",
       "    .dataframe thead th {\n",
       "        text-align: right;\n",
       "    }\n",
       "</style>\n",
       "<table border=\"1\" class=\"dataframe\">\n",
       "  <thead>\n",
       "    <tr style=\"text-align: right;\">\n",
       "      <th></th>\n",
       "      <th>name</th>\n",
       "      <th>runs</th>\n",
       "    </tr>\n",
       "  </thead>\n",
       "  <tbody>\n",
       "    <tr>\n",
       "      <th>7</th>\n",
       "      <td>PARMESHWAR</td>\n",
       "      <td>9466</td>\n",
       "    </tr>\n",
       "  </tbody>\n",
       "</table>\n",
       "</div>"
      ],
      "text/plain": [
       "         name  runs\n",
       "7  PARMESHWAR  9466"
      ]
     },
     "execution_count": 20,
     "metadata": {},
     "output_type": "execute_result"
    }
   ],
   "source": [
    "x = df[df['runs'] == df['runs'].max()]\n",
    "x[['name', 'runs']]"
   ]
  },
  {
   "cell_type": "code",
   "execution_count": null,
   "id": "f998949f-5b15-4dd0-aa92-547abcceb05f",
   "metadata": {},
   "outputs": [],
   "source": []
  }
 ],
 "metadata": {
  "kernelspec": {
   "display_name": "Python 3 (ipykernel)",
   "language": "python",
   "name": "python3"
  },
  "language_info": {
   "codemirror_mode": {
    "name": "ipython",
    "version": 3
   },
   "file_extension": ".py",
   "mimetype": "text/x-python",
   "name": "python",
   "nbconvert_exporter": "python",
   "pygments_lexer": "ipython3",
   "version": "3.11.7"
  }
 },
 "nbformat": 4,
 "nbformat_minor": 5
}
