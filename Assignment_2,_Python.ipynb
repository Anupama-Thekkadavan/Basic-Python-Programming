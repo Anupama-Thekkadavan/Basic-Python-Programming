{
  "nbformat": 4,
  "nbformat_minor": 0,
  "metadata": {
    "colab": {
      "provenance": []
    },
    "kernelspec": {
      "name": "python3",
      "display_name": "Python 3"
    },
    "language_info": {
      "name": "python"
    }
  },
  "cells": [
    {
      "cell_type": "code",
      "execution_count": null,
      "metadata": {
        "id": "761qp60FYaNQ"
      },
      "outputs": [],
      "source": []
    },
    {
      "cell_type": "markdown",
      "source": [
        "**Write a program to input basic salary and find output of gross salary using\n",
        "following:\n",
        "DA = 75% of basic\n",
        "HRA = 20% of basic\n",
        "Conditions:\n",
        "Basic < 10000 : gross = da + basic\n",
        "Basic >= 10000 and < 20000 : gross = da + basic + 50% of hra\n",
        "Basic >= 20000 : gross = basic + da + hra**"
      ],
      "metadata": {
        "id": "mgj5nL8oYgzz"
      }
    },
    {
      "cell_type": "code",
      "source": [
        "basic = int(input('Basic salary is:'))\n",
        "da = 75/100*basic\n",
        "hra = 20/100*basic\n",
        "if basic<10000:\n",
        "    gross = basic+da\n",
        "    print('Gross salary is:',gross)\n",
        "elif basic>= 10000 and basic<20000:\n",
        "    gross= basic+da+50/100*hra\n",
        "    print('Gross salary is:',gross)\n",
        "else:\n",
        "    gross = basic+da+hra\n",
        "    print('Gross salary is:',gross)"
      ],
      "metadata": {
        "colab": {
          "base_uri": "https://localhost:8080/"
        },
        "id": "ql3gO5BhY5VP",
        "outputId": "137f2db4-b4cd-46fd-cc5f-0bb1ff643738"
      },
      "execution_count": null,
      "outputs": [
        {
          "output_type": "stream",
          "name": "stdout",
          "text": [
            "Basic salary is:45000\n",
            "Gross salary is: 87750.0\n"
          ]
        }
      ]
    },
    {
      "cell_type": "markdown",
      "source": [
        "**Write a program to read a number from user and find the factorial of the number.**"
      ],
      "metadata": {
        "id": "5MtwS7omZMzI"
      }
    },
    {
      "cell_type": "code",
      "source": [
        "n= int(input('Number:'))\n",
        "num = 1\n",
        "mul = 1\n",
        "while num <= n:\n",
        "    mul = num*mul\n",
        "    num = num+1\n",
        "print('Factorial is:',mul)"
      ],
      "metadata": {
        "colab": {
          "base_uri": "https://localhost:8080/"
        },
        "id": "7fCbpJTqZYeo",
        "outputId": "f7ca05bb-dd46-43f4-ce55-c5fe1f74a09d"
      },
      "execution_count": 9,
      "outputs": [
        {
          "output_type": "stream",
          "name": "stdout",
          "text": [
            "Number:13\n",
            "Factorial is: 6227020800\n"
          ]
        }
      ]
    },
    {
      "cell_type": "markdown",
      "source": [
        "**Write a program to read num1 and num2 from keyboard and find addition of all\n",
        "number between that range.**"
      ],
      "metadata": {
        "id": "UaNuoUWPZpKw"
      }
    },
    {
      "cell_type": "code",
      "source": [
        "num1= int(input('num1:'))\n",
        "num2= int(input('num2:'))\n",
        "\n",
        "sumtotal = 0\n",
        "\n",
        "for n in range(num1+1,num2):\n",
        "    sumtotal = sumtotal+n\n",
        "print('Sum of the range is:',sumtotal)"
      ],
      "metadata": {
        "colab": {
          "base_uri": "https://localhost:8080/"
        },
        "id": "r2DIergnoNAN",
        "outputId": "b045d065-8eca-454b-d26a-501d6817187d"
      },
      "execution_count": null,
      "outputs": [
        {
          "output_type": "stream",
          "name": "stdout",
          "text": [
            "num1:5\n",
            "num2:55\n",
            "Sum of the range is: 1470\n"
          ]
        }
      ]
    },
    {
      "cell_type": "code",
      "source": [
        "sumtotal= lambda num1, num2: sum(range (num1+1, num2))\n",
        "num1 = int (input ('Enter num1:'))\n",
        "num2 = int (input ('Enter num2:'))\n",
        "\n",
        "sumtotal = sumtotal (num1, num2)\n",
        "print ('Sum of the range is:', sumtotal)"
      ],
      "metadata": {
        "colab": {
          "base_uri": "https://localhost:8080/"
        },
        "id": "0PXXlsVUvicG",
        "outputId": "bab07631-2938-448b-f059-7b3a9ae1ab8c"
      },
      "execution_count": 1,
      "outputs": [
        {
          "output_type": "stream",
          "name": "stdout",
          "text": [
            "Enter num1:5\n",
            "Enter num2:55\n",
            "Sum of the range is: 1470\n"
          ]
        }
      ]
    },
    {
      "cell_type": "markdown",
      "source": [
        "**This is a list of some languages.\n",
        "languages = ['marathi','bangla','urdu','bangla','odia','urdu', 'kannada','bangla','tamil', 'kannada','marathi']\n",
        "Write a program to make a new list that is almost identical to the languages list but the new contains the same language names, in the same order, except that it does NOT contain the language 'urdu'.**\n"
      ],
      "metadata": {
        "id": "gnGBnpWZo4gu"
      }
    },
    {
      "cell_type": "code",
      "source": [
        "langs = ['marathi','bangla','urdu','bangla','odia','urdu', 'kannada', 'bangla','tamil', 'kannada','marathi']\n",
        "newlangs = []\n",
        "for l in langs:\n",
        "    if l != 'urdu':\n",
        "        newlangs.append(l)\n",
        "print(newlangs)"
      ],
      "metadata": {
        "colab": {
          "base_uri": "https://localhost:8080/"
        },
        "id": "nt_acupbqFG5",
        "outputId": "2555cc80-004b-45f7-a81f-af93cc6733c1"
      },
      "execution_count": null,
      "outputs": [
        {
          "output_type": "stream",
          "name": "stdout",
          "text": [
            "['marathi', 'bangla', 'bangla', 'odia', 'kannada', 'bangla', 'tamil', 'kannada', 'marathi']\n"
          ]
        }
      ]
    },
    {
      "cell_type": "markdown",
      "source": [
        "**See the tuple given: num = (56,2,35,41,43,48,32,56,71,55,68)\n",
        "Write a program to create two lists from it where first list contains only even numbers and second will contain only odd numbers.**"
      ],
      "metadata": {
        "id": "dQp7A8x3sdiD"
      }
    },
    {
      "cell_type": "code",
      "source": [
        "num =  (56,2,35,41,43,48,32,56,71,55,68)\n",
        "even = [x for x in num if x % 2 == 0]\n",
        "odd = [x for x in num if x % 2 != 0]\n",
        "\n",
        "print('List of even numbers:', even)\n",
        "print('List of odd numbers:', odd)"
      ],
      "metadata": {
        "colab": {
          "base_uri": "https://localhost:8080/"
        },
        "id": "RuJSWkkR0Epg",
        "outputId": "92582677-f650-4ae8-caff-53601e33cccc"
      },
      "execution_count": 6,
      "outputs": [
        {
          "output_type": "stream",
          "name": "stdout",
          "text": [
            "List of even numbers: [56, 2, 48, 32, 56, 68]\n",
            "List of odd numbers: [35, 41, 43, 71, 55]\n"
          ]
        }
      ]
    },
    {
      "cell_type": "code",
      "source": [
        "num =  (56,2,35,41,43,48,32,56,71,55,68)\n",
        "even = []\n",
        "odd = []\n",
        "for n in num:\n",
        "    if n%2 == 0:\n",
        "        even.append(n)\n",
        "    else:\n",
        "        odd.append(n)\n",
        "print('even:',even)\n",
        "print('odd:',odd)"
      ],
      "metadata": {
        "colab": {
          "base_uri": "https://localhost:8080/"
        },
        "id": "OtODbd32lj0k",
        "outputId": "9db2e249-31e5-4f7b-8fcb-d6838c42f115"
      },
      "execution_count": 4,
      "outputs": [
        {
          "output_type": "stream",
          "name": "stdout",
          "text": [
            "even: [56, 2, 48, 32, 56, 68]\n",
            "odd: [35, 41, 43, 71, 55]\n"
          ]
        }
      ]
    },
    {
      "cell_type": "markdown",
      "source": [
        "**Write a program to read a number from user. Create and use a user defined function to check whether it is odd or even?**"
      ],
      "metadata": {
        "id": "jv4YRmjvtpzK"
      }
    },
    {
      "cell_type": "code",
      "source": [
        "def number(n):\n",
        "    if n%2 == 0:\n",
        "        print(n, 'is even.')\n",
        "    else:\n",
        "        print(n, 'is odd.')"
      ],
      "metadata": {
        "id": "8jxoG-6PtyNw"
      },
      "execution_count": 10,
      "outputs": []
    },
    {
      "cell_type": "code",
      "source": [
        "number(88772211)"
      ],
      "metadata": {
        "colab": {
          "base_uri": "https://localhost:8080/"
        },
        "id": "B2ZxHt6euBwS",
        "outputId": "88ad4731-ecc7-41af-82f8-eaa1b080207d"
      },
      "execution_count": 11,
      "outputs": [
        {
          "output_type": "stream",
          "name": "stdout",
          "text": [
            "88772211 is odd.\n"
          ]
        }
      ]
    },
    {
      "cell_type": "code",
      "source": [
        "number(989822722)"
      ],
      "metadata": {
        "colab": {
          "base_uri": "https://localhost:8080/"
        },
        "id": "LVWZLpj7uFU7",
        "outputId": "7c6bd128-528b-436f-f8be-df4be116e019"
      },
      "execution_count": 12,
      "outputs": [
        {
          "output_type": "stream",
          "name": "stdout",
          "text": [
            "989822722 is even.\n"
          ]
        }
      ]
    }
  ]
}